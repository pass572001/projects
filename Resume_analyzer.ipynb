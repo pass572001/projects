{
  "nbformat": 4,
  "nbformat_minor": 0,
  "metadata": {
    "colab": {
      "provenance": [],
      "authorship_tag": "ABX9TyPXiYoGUBn3iHDz+MveZwhz",
      "include_colab_link": true
    },
    "kernelspec": {
      "name": "python3",
      "display_name": "Python 3"
    },
    "language_info": {
      "name": "python"
    }
  },
  "cells": [
    {
      "cell_type": "markdown",
      "metadata": {
        "id": "view-in-github",
        "colab_type": "text"
      },
      "source": [
        "<a href=\"https://colab.research.google.com/github/pass572001/projects/blob/main/Resume_analyzer.ipynb\" target=\"_parent\"><img src=\"https://colab.research.google.com/assets/colab-badge.svg\" alt=\"Open In Colab\"/></a>"
      ]
    },
    {
      "cell_type": "code",
      "execution_count": 1,
      "metadata": {
        "colab": {
          "base_uri": "https://localhost:8080/"
        },
        "id": "DdA4rwhNVm8A",
        "outputId": "3ac89b3a-bee3-4f0e-cda7-9ca4e2d844af"
      },
      "outputs": [
        {
          "output_type": "stream",
          "name": "stdout",
          "text": [
            "Looking in indexes: https://pypi.org/simple, https://us-python.pkg.dev/colab-wheels/public/simple/\n",
            "Collecting docx2txt\n",
            "  Downloading docx2txt-0.8.tar.gz (2.8 kB)\n",
            "  Preparing metadata (setup.py) ... \u001b[?25l\u001b[?25hdone\n",
            "Building wheels for collected packages: docx2txt\n",
            "  Building wheel for docx2txt (setup.py) ... \u001b[?25l\u001b[?25hdone\n",
            "  Created wheel for docx2txt: filename=docx2txt-0.8-py3-none-any.whl size=3957 sha256=adf0b9584201e5f1addbd059b1b7ea8d440428e39dd1c7c2026895bd359ef0e3\n",
            "  Stored in directory: /root/.cache/pip/wheels/22/58/cf/093d0a6c3ecfdfc5f6ddd5524043b88e59a9a199cb02352966\n",
            "Successfully built docx2txt\n",
            "Installing collected packages: docx2txt\n",
            "Successfully installed docx2txt-0.8\n"
          ]
        }
      ],
      "source": [
        "!pip install docx2txt\n",
        "import docx2txt"
      ]
    },
    {
      "cell_type": "code",
      "source": [
        "pip install nltk"
      ],
      "metadata": {
        "colab": {
          "base_uri": "https://localhost:8080/"
        },
        "id": "rIzE43dyWZQE",
        "outputId": "4875f174-a363-4845-cd9a-cac63140cd2a"
      },
      "execution_count": 2,
      "outputs": [
        {
          "output_type": "stream",
          "name": "stdout",
          "text": [
            "Looking in indexes: https://pypi.org/simple, https://us-python.pkg.dev/colab-wheels/public/simple/\n",
            "Requirement already satisfied: nltk in /usr/local/lib/python3.10/dist-packages (3.8.1)\n",
            "Requirement already satisfied: click in /usr/local/lib/python3.10/dist-packages (from nltk) (8.1.3)\n",
            "Requirement already satisfied: joblib in /usr/local/lib/python3.10/dist-packages (from nltk) (1.2.0)\n",
            "Requirement already satisfied: regex>=2021.8.3 in /usr/local/lib/python3.10/dist-packages (from nltk) (2022.10.31)\n",
            "Requirement already satisfied: tqdm in /usr/local/lib/python3.10/dist-packages (from nltk) (4.65.0)\n"
          ]
        }
      ]
    },
    {
      "cell_type": "code",
      "source": [
        "import nltk\n",
        "nltk.download('punkt')\n",
        "nltk.download('averaged_perceptron_tagger')\n",
        "nltk.download('stopwords')"
      ],
      "metadata": {
        "colab": {
          "base_uri": "https://localhost:8080/"
        },
        "id": "_oc2AAu6We5b",
        "outputId": "e268b60a-76ab-41a3-f3bb-a3c7f3dc4e13"
      },
      "execution_count": 3,
      "outputs": [
        {
          "output_type": "stream",
          "name": "stderr",
          "text": [
            "[nltk_data] Downloading package punkt to /root/nltk_data...\n",
            "[nltk_data]   Unzipping tokenizers/punkt.zip.\n",
            "[nltk_data] Downloading package averaged_perceptron_tagger to\n",
            "[nltk_data]     /root/nltk_data...\n",
            "[nltk_data]   Unzipping taggers/averaged_perceptron_tagger.zip.\n",
            "[nltk_data] Downloading package stopwords to /root/nltk_data...\n",
            "[nltk_data]   Unzipping corpora/stopwords.zip.\n"
          ]
        },
        {
          "output_type": "execute_result",
          "data": {
            "text/plain": [
              "True"
            ]
          },
          "metadata": {},
          "execution_count": 3
        }
      ]
    },
    {
      "cell_type": "code",
      "source": [
        "job_description = docx2txt.process('/content/Data Scientist Job Description.docx')\n",
        "resume = docx2txt.process('/content/Ganesh.docx')\n",
        "print(resume)"
      ],
      "metadata": {
        "colab": {
          "base_uri": "https://localhost:8080/"
        },
        "id": "iAbAjQBjW5iL",
        "outputId": "404628bc-5bf9-4e1b-8c46-a9508ab87e1d"
      },
      "execution_count": 6,
      "outputs": [
        {
          "output_type": "stream",
          "name": "stdout",
          "text": [
            "Ganesh Baravkar \n",
            "\n",
            "Data Enthusiast | BE Computer Engineering Student at PES Mcoe,Pune-05 \n",
            "\n",
            "ganeshbaravkargb22@gmail.com \n",
            "\n",
            "7666941195\n",
            "\n",
            " \n",
            "\n",
            "3975\n",
            "\n",
            ",Bhavani Peth,Barshi-413401, india \n",
            "\n",
            "linkedin.com/in/ganesh-baravkar-b948161b0\n",
            "\n",
            " \n",
            "\n",
            "live:.cid.d1602f31bada2760 \n",
            "\n",
            "github.com/ganeshbaravkargb22\n",
            "\n",
            " \n",
            "\n",
            "Ganesh Baravkar \n",
            "\n",
            "Data Enthusiast | BE Computer Engineering Student at PES Mcoe,Pune-05 \n",
            "\n",
            "ganeshbaravkargb22@gmail.com \n",
            "\n",
            "7666941195\n",
            "\n",
            " \n",
            "\n",
            "3975\n",
            "\n",
            ",Bhavani Peth,Barshi-413401, india \n",
            "\n",
            "linkedin.com/in/ganesh-baravkar-b948161b0\n",
            "\n",
            " \n",
            "\n",
            "live:.cid.d1602f31bada2760 \n",
            "\n",
            "github.com/ganeshbaravkargb22\n",
            "\n",
            " EDUCATION \n",
            "\n",
            "Bachelor of Computer Engineering \n",
            "\n",
            "PES Modern college of engineering,pune \n",
            "\n",
            "07/2019 - Present,  \n",
            "\n",
            "Courses \n",
            "\n",
            "\n",
            "\n",
            "BE computer CGPA-8.80 \n",
            "\n",
            "HSC \n",
            "\n",
            "Shri shivaji mahavidyalay,Barshi \n",
            "\n",
            "03/2018 - 04/2019,  \n",
            "\n",
            "Courses \n",
            "\n",
            "\n",
            "\n",
            "XII-Science(Electronics) 65.38% \n",
            "\n",
            "SSC \n",
            "\n",
            "Sulakhe Highschool,Barshi \n",
            "\n",
            "03/2016 - 04/2017,  \n",
            "\n",
            "Courses \n",
            "\n",
            "\n",
            "\n",
            "X 77.00% \n",
            "\n",
            "WORK EXPERIENCE \n",
            "\n",
            "Software engineer \n",
            "\n",
            "DigiTran Solutions \n",
            "\n",
            "\t10/2021 - 12/2021,  \tKarnataka, India, 560087 \n",
            "\n",
            "Using Logistic Regression, eligibility of the bank's customers for the loan, from the past data of the customers, this model predicts the eligibility of the customer for the loan. \n",
            "\n",
            "Project : \n",
            "\n",
            "\n",
            "\n",
            "Bank Loan Prediction Using Machine Learning \n",
            "\n",
            "Contact : +91 9986213430 - anbunathan.r@gmail.com \n",
            "\n",
            "Software trainee \n",
            "\n",
            "YBI Foundation \n",
            "\n",
            "01/2022 - 02/2022,  completion of two months online internship at YBI Foundation in Artificial Intelligence and Machine Learning with application in field of Business and Healthcare. Using neural network to create an earthquake prediction model modelling with machine learning and the Python programming language. \n",
            "\n",
            "project : \n",
            "\n",
            "\n",
            "\n",
            "Earthquake Prediction Model with Machine Learning. \n",
            "\n",
            "Contact : (+91) 966 798 7711 - support@ybifoundation.org \n",
            "\n",
            "SKILLS \n",
            "\n",
            "\n",
            "\n",
            "C/C++ \n",
            "\n",
            "Python \n",
            "\n",
            "SQL \n",
            "\n",
            "HTML \n",
            "\n",
            "CSS \n",
            "\n",
            "OOPs \n",
            "\n",
            "Machine Learning \n",
            "\n",
            "Data Science \n",
            "\n",
            "Cloud computing \n",
            "\n",
            "Data Analytics & Visualization \n",
            "\n",
            "Project management \n",
            "\n",
            "Analytical \n",
            "\n",
            "Design \n",
            "\n",
            "UI / UX \n",
            "\n",
            "Development \n",
            "\n",
            "Testing \n",
            "\n",
            "SDLC \n",
            "\n",
            "Networking \n",
            "\n",
            "Microsoft Excel \n",
            "\n",
            "Figma \n",
            "\n",
            "Statistics \n",
            "\n",
            "Business intelligence \n",
            "\n",
            "C/C++ \n",
            "\n",
            "Python \n",
            "\n",
            "SQL \n",
            "\n",
            "HTML \n",
            "\n",
            "CSS \n",
            "\n",
            "OOPs \n",
            "\n",
            "Machine Learning \n",
            "\n",
            "Data Science \n",
            "\n",
            "Cloud computing \n",
            "\n",
            "Data Analytics & Visualization \n",
            "\n",
            "Project management \n",
            "\n",
            "Analytical \n",
            "\n",
            "Design \n",
            "\n",
            "UI / UX \n",
            "\n",
            "Development \n",
            "\n",
            "Testing \n",
            "\n",
            "SDLC \n",
            "\n",
            "Networking \n",
            "\n",
            "Microsoft Excel \n",
            "\n",
            "Figma \n",
            "\n",
            "Statistics \n",
            "\n",
            "Business intelligence \n",
            "\n",
            "PERSONAL PROJECTS \n",
            "\n",
            "Bank Loan Prediction Using Machine Learning: \n",
            "\n",
            "\n",
            "\n",
            "Using Logistic Regression, eligibility of the bank's customers for the loan, from the past data of the customers, this model predicts the eligibility of the customer for the loan. \n",
            "\n",
            "Instagram Reach Data analysis using Python: \n",
            "\n",
            "\n",
            "\n",
            "To analyze the reach of your Instagram account, That helps in understanding how Instagram’s algorithm is working and analyze future task is more affective or get more outcome. \n",
            "\n",
            "Placement management system: \n",
            "\n",
            "\n",
            "\n",
            "Created a website for placement and recruitment that satisfy the need of both recruiters and students.(Mysql(Database) and PHP) \n",
            "\n",
            "survey in salesforce: \n",
            "\n",
            "\n",
            "\n",
            "Created a Survey in Salesforce to collect feedback and data from users/customers and use the Salesforce to view survey data, create report and gain data-driven insights across organizations. \n",
            "\n",
            "CERTIFICATES \n",
            "\n",
            "C++ Programming \n",
            "\n",
            "Udemy \n",
            "\n",
            "Azure fundamental(AZ-900) \n",
            "\n",
            "Microsoft \n",
            "\n",
            "SQL&MySQL \n",
            "\n",
            "Udemy \n",
            "\n",
            "C++ Spoken Tutorial , IIT Bombay. python 3.0 Spoken Tutorial Project, IIT Bombay. \n",
            "\n",
            "Machine Learning with Python \n",
            "\n",
            "linkedin learning\n"
          ]
        }
      ]
    },
    {
      "cell_type": "code",
      "source": [
        "from nltk import word_tokenize\n",
        "word=word_tokenize(resume)\n",
        "print(word)"
      ],
      "metadata": {
        "colab": {
          "base_uri": "https://localhost:8080/"
        },
        "id": "-KlSd8bUX93n",
        "outputId": "95fc8dcd-5b31-41a7-894f-4aa1bacb6bde"
      },
      "execution_count": 7,
      "outputs": [
        {
          "output_type": "stream",
          "name": "stdout",
          "text": [
            "['Ganesh', 'Baravkar', 'Data', 'Enthusiast', '|', 'BE', 'Computer', 'Engineering', 'Student', 'at', 'PES', 'Mcoe', ',', 'Pune-05', 'ganeshbaravkargb22', '@', 'gmail.com', '7666941195', '3975', ',', 'Bhavani', 'Peth', ',', 'Barshi-413401', ',', 'india', 'linkedin.com/in/ganesh-baravkar-b948161b0', 'live', ':', '.cid.d1602f31bada2760', 'github.com/ganeshbaravkargb22', 'Ganesh', 'Baravkar', 'Data', 'Enthusiast', '|', 'BE', 'Computer', 'Engineering', 'Student', 'at', 'PES', 'Mcoe', ',', 'Pune-05', 'ganeshbaravkargb22', '@', 'gmail.com', '7666941195', '3975', ',', 'Bhavani', 'Peth', ',', 'Barshi-413401', ',', 'india', 'linkedin.com/in/ganesh-baravkar-b948161b0', 'live', ':', '.cid.d1602f31bada2760', 'github.com/ganeshbaravkargb22', 'EDUCATION', 'Bachelor', 'of', 'Computer', 'Engineering', 'PES', 'Modern', 'college', 'of', 'engineering', ',', 'pune', '07/2019', '-', 'Present', ',', 'Courses', 'BE', 'computer', 'CGPA-8.80', 'HSC', 'Shri', 'shivaji', 'mahavidyalay', ',', 'Barshi', '03/2018', '-', '04/2019', ',', 'Courses', 'XII-Science', '(', 'Electronics', ')', '65.38', '%', 'SSC', 'Sulakhe', 'Highschool', ',', 'Barshi', '03/2016', '-', '04/2017', ',', 'Courses', 'X', '77.00', '%', 'WORK', 'EXPERIENCE', 'Software', 'engineer', 'DigiTran', 'Solutions', '10/2021', '-', '12/2021', ',', 'Karnataka', ',', 'India', ',', '560087', 'Using', 'Logistic', 'Regression', ',', 'eligibility', 'of', 'the', 'bank', \"'s\", 'customers', 'for', 'the', 'loan', ',', 'from', 'the', 'past', 'data', 'of', 'the', 'customers', ',', 'this', 'model', 'predicts', 'the', 'eligibility', 'of', 'the', 'customer', 'for', 'the', 'loan', '.', 'Project', ':', 'Bank', 'Loan', 'Prediction', 'Using', 'Machine', 'Learning', 'Contact', ':', '+91', '9986213430', '-', 'anbunathan.r', '@', 'gmail.com', 'Software', 'trainee', 'YBI', 'Foundation', '01/2022', '-', '02/2022', ',', 'completion', 'of', 'two', 'months', 'online', 'internship', 'at', 'YBI', 'Foundation', 'in', 'Artificial', 'Intelligence', 'and', 'Machine', 'Learning', 'with', 'application', 'in', 'field', 'of', 'Business', 'and', 'Healthcare', '.', 'Using', 'neural', 'network', 'to', 'create', 'an', 'earthquake', 'prediction', 'model', 'modelling', 'with', 'machine', 'learning', 'and', 'the', 'Python', 'programming', 'language', '.', 'project', ':', 'Earthquake', 'Prediction', 'Model', 'with', 'Machine', 'Learning', '.', 'Contact', ':', '(', '+91', ')', '966', '798', '7711', '-', 'support', '@', 'ybifoundation.org', 'SKILLS', 'C/C++', 'Python', 'SQL', 'HTML', 'CSS', 'OOPs', 'Machine', 'Learning', 'Data', 'Science', 'Cloud', 'computing', 'Data', 'Analytics', '&', 'Visualization', 'Project', 'management', 'Analytical', 'Design', 'UI', '/', 'UX', 'Development', 'Testing', 'SDLC', 'Networking', 'Microsoft', 'Excel', 'Figma', 'Statistics', 'Business', 'intelligence', 'C/C++', 'Python', 'SQL', 'HTML', 'CSS', 'OOPs', 'Machine', 'Learning', 'Data', 'Science', 'Cloud', 'computing', 'Data', 'Analytics', '&', 'Visualization', 'Project', 'management', 'Analytical', 'Design', 'UI', '/', 'UX', 'Development', 'Testing', 'SDLC', 'Networking', 'Microsoft', 'Excel', 'Figma', 'Statistics', 'Business', 'intelligence', 'PERSONAL', 'PROJECTS', 'Bank', 'Loan', 'Prediction', 'Using', 'Machine', 'Learning', ':', 'Using', 'Logistic', 'Regression', ',', 'eligibility', 'of', 'the', 'bank', \"'s\", 'customers', 'for', 'the', 'loan', ',', 'from', 'the', 'past', 'data', 'of', 'the', 'customers', ',', 'this', 'model', 'predicts', 'the', 'eligibility', 'of', 'the', 'customer', 'for', 'the', 'loan', '.', 'Instagram', 'Reach', 'Data', 'analysis', 'using', 'Python', ':', 'To', 'analyze', 'the', 'reach', 'of', 'your', 'Instagram', 'account', ',', 'That', 'helps', 'in', 'understanding', 'how', 'Instagram', '’', 's', 'algorithm', 'is', 'working', 'and', 'analyze', 'future', 'task', 'is', 'more', 'affective', 'or', 'get', 'more', 'outcome', '.', 'Placement', 'management', 'system', ':', 'Created', 'a', 'website', 'for', 'placement', 'and', 'recruitment', 'that', 'satisfy', 'the', 'need', 'of', 'both', 'recruiters', 'and', 'students', '.', '(', 'Mysql', '(', 'Database', ')', 'and', 'PHP', ')', 'survey', 'in', 'salesforce', ':', 'Created', 'a', 'Survey', 'in', 'Salesforce', 'to', 'collect', 'feedback', 'and', 'data', 'from', 'users/customers', 'and', 'use', 'the', 'Salesforce', 'to', 'view', 'survey', 'data', ',', 'create', 'report', 'and', 'gain', 'data-driven', 'insights', 'across', 'organizations', '.', 'CERTIFICATES', 'C++', 'Programming', 'Udemy', 'Azure', 'fundamental', '(', 'AZ-900', ')', 'Microsoft', 'SQL', '&', 'MySQL', 'Udemy', 'C++', 'Spoken', 'Tutorial', ',', 'IIT', 'Bombay', '.', 'python', '3.0', 'Spoken', 'Tutorial', 'Project', ',', 'IIT', 'Bombay', '.', 'Machine', 'Learning', 'with', 'Python', 'linkedin', 'learning']\n"
          ]
        }
      ]
    },
    {
      "cell_type": "code",
      "source": [
        "from nltk.corpus import stopwords\n",
        "stop_words = stopwords.words('english')\n",
        "print(stop_words)"
      ],
      "metadata": {
        "colab": {
          "base_uri": "https://localhost:8080/"
        },
        "id": "v5Ed8UKXYN77",
        "outputId": "390afc44-2f84-4ed9-af07-8efd2469c3c6"
      },
      "execution_count": 8,
      "outputs": [
        {
          "output_type": "stream",
          "name": "stdout",
          "text": [
            "['i', 'me', 'my', 'myself', 'we', 'our', 'ours', 'ourselves', 'you', \"you're\", \"you've\", \"you'll\", \"you'd\", 'your', 'yours', 'yourself', 'yourselves', 'he', 'him', 'his', 'himself', 'she', \"she's\", 'her', 'hers', 'herself', 'it', \"it's\", 'its', 'itself', 'they', 'them', 'their', 'theirs', 'themselves', 'what', 'which', 'who', 'whom', 'this', 'that', \"that'll\", 'these', 'those', 'am', 'is', 'are', 'was', 'were', 'be', 'been', 'being', 'have', 'has', 'had', 'having', 'do', 'does', 'did', 'doing', 'a', 'an', 'the', 'and', 'but', 'if', 'or', 'because', 'as', 'until', 'while', 'of', 'at', 'by', 'for', 'with', 'about', 'against', 'between', 'into', 'through', 'during', 'before', 'after', 'above', 'below', 'to', 'from', 'up', 'down', 'in', 'out', 'on', 'off', 'over', 'under', 'again', 'further', 'then', 'once', 'here', 'there', 'when', 'where', 'why', 'how', 'all', 'any', 'both', 'each', 'few', 'more', 'most', 'other', 'some', 'such', 'no', 'nor', 'not', 'only', 'own', 'same', 'so', 'than', 'too', 'very', 's', 't', 'can', 'will', 'just', 'don', \"don't\", 'should', \"should've\", 'now', 'd', 'll', 'm', 'o', 're', 've', 'y', 'ain', 'aren', \"aren't\", 'couldn', \"couldn't\", 'didn', \"didn't\", 'doesn', \"doesn't\", 'hadn', \"hadn't\", 'hasn', \"hasn't\", 'haven', \"haven't\", 'isn', \"isn't\", 'ma', 'mightn', \"mightn't\", 'mustn', \"mustn't\", 'needn', \"needn't\", 'shan', \"shan't\", 'shouldn', \"shouldn't\", 'wasn', \"wasn't\", 'weren', \"weren't\", 'won', \"won't\", 'wouldn', \"wouldn't\"]\n"
          ]
        }
      ]
    },
    {
      "cell_type": "code",
      "source": [
        "filtered = [word for word in word if word not in stop_words]\n",
        "print(filtered)\n"
      ],
      "metadata": {
        "colab": {
          "base_uri": "https://localhost:8080/"
        },
        "id": "tje5AZFeYT4O",
        "outputId": "e8df51ce-9d83-4b5e-9f45-05f4cf97fa07"
      },
      "execution_count": 9,
      "outputs": [
        {
          "output_type": "stream",
          "name": "stdout",
          "text": [
            "['Ganesh', 'Baravkar', 'Data', 'Enthusiast', '|', 'BE', 'Computer', 'Engineering', 'Student', 'PES', 'Mcoe', ',', 'Pune-05', 'ganeshbaravkargb22', '@', 'gmail.com', '7666941195', '3975', ',', 'Bhavani', 'Peth', ',', 'Barshi-413401', ',', 'india', 'linkedin.com/in/ganesh-baravkar-b948161b0', 'live', ':', '.cid.d1602f31bada2760', 'github.com/ganeshbaravkargb22', 'Ganesh', 'Baravkar', 'Data', 'Enthusiast', '|', 'BE', 'Computer', 'Engineering', 'Student', 'PES', 'Mcoe', ',', 'Pune-05', 'ganeshbaravkargb22', '@', 'gmail.com', '7666941195', '3975', ',', 'Bhavani', 'Peth', ',', 'Barshi-413401', ',', 'india', 'linkedin.com/in/ganesh-baravkar-b948161b0', 'live', ':', '.cid.d1602f31bada2760', 'github.com/ganeshbaravkargb22', 'EDUCATION', 'Bachelor', 'Computer', 'Engineering', 'PES', 'Modern', 'college', 'engineering', ',', 'pune', '07/2019', '-', 'Present', ',', 'Courses', 'BE', 'computer', 'CGPA-8.80', 'HSC', 'Shri', 'shivaji', 'mahavidyalay', ',', 'Barshi', '03/2018', '-', '04/2019', ',', 'Courses', 'XII-Science', '(', 'Electronics', ')', '65.38', '%', 'SSC', 'Sulakhe', 'Highschool', ',', 'Barshi', '03/2016', '-', '04/2017', ',', 'Courses', 'X', '77.00', '%', 'WORK', 'EXPERIENCE', 'Software', 'engineer', 'DigiTran', 'Solutions', '10/2021', '-', '12/2021', ',', 'Karnataka', ',', 'India', ',', '560087', 'Using', 'Logistic', 'Regression', ',', 'eligibility', 'bank', \"'s\", 'customers', 'loan', ',', 'past', 'data', 'customers', ',', 'model', 'predicts', 'eligibility', 'customer', 'loan', '.', 'Project', ':', 'Bank', 'Loan', 'Prediction', 'Using', 'Machine', 'Learning', 'Contact', ':', '+91', '9986213430', '-', 'anbunathan.r', '@', 'gmail.com', 'Software', 'trainee', 'YBI', 'Foundation', '01/2022', '-', '02/2022', ',', 'completion', 'two', 'months', 'online', 'internship', 'YBI', 'Foundation', 'Artificial', 'Intelligence', 'Machine', 'Learning', 'application', 'field', 'Business', 'Healthcare', '.', 'Using', 'neural', 'network', 'create', 'earthquake', 'prediction', 'model', 'modelling', 'machine', 'learning', 'Python', 'programming', 'language', '.', 'project', ':', 'Earthquake', 'Prediction', 'Model', 'Machine', 'Learning', '.', 'Contact', ':', '(', '+91', ')', '966', '798', '7711', '-', 'support', '@', 'ybifoundation.org', 'SKILLS', 'C/C++', 'Python', 'SQL', 'HTML', 'CSS', 'OOPs', 'Machine', 'Learning', 'Data', 'Science', 'Cloud', 'computing', 'Data', 'Analytics', '&', 'Visualization', 'Project', 'management', 'Analytical', 'Design', 'UI', '/', 'UX', 'Development', 'Testing', 'SDLC', 'Networking', 'Microsoft', 'Excel', 'Figma', 'Statistics', 'Business', 'intelligence', 'C/C++', 'Python', 'SQL', 'HTML', 'CSS', 'OOPs', 'Machine', 'Learning', 'Data', 'Science', 'Cloud', 'computing', 'Data', 'Analytics', '&', 'Visualization', 'Project', 'management', 'Analytical', 'Design', 'UI', '/', 'UX', 'Development', 'Testing', 'SDLC', 'Networking', 'Microsoft', 'Excel', 'Figma', 'Statistics', 'Business', 'intelligence', 'PERSONAL', 'PROJECTS', 'Bank', 'Loan', 'Prediction', 'Using', 'Machine', 'Learning', ':', 'Using', 'Logistic', 'Regression', ',', 'eligibility', 'bank', \"'s\", 'customers', 'loan', ',', 'past', 'data', 'customers', ',', 'model', 'predicts', 'eligibility', 'customer', 'loan', '.', 'Instagram', 'Reach', 'Data', 'analysis', 'using', 'Python', ':', 'To', 'analyze', 'reach', 'Instagram', 'account', ',', 'That', 'helps', 'understanding', 'Instagram', '’', 'algorithm', 'working', 'analyze', 'future', 'task', 'affective', 'get', 'outcome', '.', 'Placement', 'management', 'system', ':', 'Created', 'website', 'placement', 'recruitment', 'satisfy', 'need', 'recruiters', 'students', '.', '(', 'Mysql', '(', 'Database', ')', 'PHP', ')', 'survey', 'salesforce', ':', 'Created', 'Survey', 'Salesforce', 'collect', 'feedback', 'data', 'users/customers', 'use', 'Salesforce', 'view', 'survey', 'data', ',', 'create', 'report', 'gain', 'data-driven', 'insights', 'across', 'organizations', '.', 'CERTIFICATES', 'C++', 'Programming', 'Udemy', 'Azure', 'fundamental', '(', 'AZ-900', ')', 'Microsoft', 'SQL', '&', 'MySQL', 'Udemy', 'C++', 'Spoken', 'Tutorial', ',', 'IIT', 'Bombay', '.', 'python', '3.0', 'Spoken', 'Tutorial', 'Project', ',', 'IIT', 'Bombay', '.', 'Machine', 'Learning', 'Python', 'linkedin', 'learning']\n"
          ]
        }
      ]
    },
    {
      "cell_type": "code",
      "source": [
        "from nltk.stem.porter import PorterStemmer\n",
        "porter = PorterStemmer()\n",
        "stemmed = [porter.stem(word) for word in filtered]\n",
        "print(stemmed)\n"
      ],
      "metadata": {
        "colab": {
          "base_uri": "https://localhost:8080/"
        },
        "id": "mXCeyxc1YWUT",
        "outputId": "3e2f235c-7c9e-44c3-a7e4-1ab86c585e0a"
      },
      "execution_count": 10,
      "outputs": [
        {
          "output_type": "stream",
          "name": "stdout",
          "text": [
            "['ganesh', 'baravkar', 'data', 'enthusiast', '|', 'be', 'comput', 'engin', 'student', 'pe', 'mcoe', ',', 'pune-05', 'ganeshbaravkargb22', '@', 'gmail.com', '7666941195', '3975', ',', 'bhavani', 'peth', ',', 'barshi-413401', ',', 'india', 'linkedin.com/in/ganesh-baravkar-b948161b0', 'live', ':', '.cid.d1602f31bada2760', 'github.com/ganeshbaravkargb22', 'ganesh', 'baravkar', 'data', 'enthusiast', '|', 'be', 'comput', 'engin', 'student', 'pe', 'mcoe', ',', 'pune-05', 'ganeshbaravkargb22', '@', 'gmail.com', '7666941195', '3975', ',', 'bhavani', 'peth', ',', 'barshi-413401', ',', 'india', 'linkedin.com/in/ganesh-baravkar-b948161b0', 'live', ':', '.cid.d1602f31bada2760', 'github.com/ganeshbaravkargb22', 'educ', 'bachelor', 'comput', 'engin', 'pe', 'modern', 'colleg', 'engin', ',', 'pune', '07/2019', '-', 'present', ',', 'cours', 'be', 'comput', 'cgpa-8.80', 'hsc', 'shri', 'shivaji', 'mahavidyalay', ',', 'barshi', '03/2018', '-', '04/2019', ',', 'cours', 'xii-scienc', '(', 'electron', ')', '65.38', '%', 'ssc', 'sulakh', 'highschool', ',', 'barshi', '03/2016', '-', '04/2017', ',', 'cours', 'x', '77.00', '%', 'work', 'experi', 'softwar', 'engin', 'digitran', 'solut', '10/2021', '-', '12/2021', ',', 'karnataka', ',', 'india', ',', '560087', 'use', 'logist', 'regress', ',', 'elig', 'bank', \"'s\", 'custom', 'loan', ',', 'past', 'data', 'custom', ',', 'model', 'predict', 'elig', 'custom', 'loan', '.', 'project', ':', 'bank', 'loan', 'predict', 'use', 'machin', 'learn', 'contact', ':', '+91', '9986213430', '-', 'anbunathan.r', '@', 'gmail.com', 'softwar', 'traine', 'ybi', 'foundat', '01/2022', '-', '02/2022', ',', 'complet', 'two', 'month', 'onlin', 'internship', 'ybi', 'foundat', 'artifici', 'intellig', 'machin', 'learn', 'applic', 'field', 'busi', 'healthcar', '.', 'use', 'neural', 'network', 'creat', 'earthquak', 'predict', 'model', 'model', 'machin', 'learn', 'python', 'program', 'languag', '.', 'project', ':', 'earthquak', 'predict', 'model', 'machin', 'learn', '.', 'contact', ':', '(', '+91', ')', '966', '798', '7711', '-', 'support', '@', 'ybifoundation.org', 'skill', 'c/c++', 'python', 'sql', 'html', 'css', 'oop', 'machin', 'learn', 'data', 'scienc', 'cloud', 'comput', 'data', 'analyt', '&', 'visual', 'project', 'manag', 'analyt', 'design', 'ui', '/', 'ux', 'develop', 'test', 'sdlc', 'network', 'microsoft', 'excel', 'figma', 'statist', 'busi', 'intellig', 'c/c++', 'python', 'sql', 'html', 'css', 'oop', 'machin', 'learn', 'data', 'scienc', 'cloud', 'comput', 'data', 'analyt', '&', 'visual', 'project', 'manag', 'analyt', 'design', 'ui', '/', 'ux', 'develop', 'test', 'sdlc', 'network', 'microsoft', 'excel', 'figma', 'statist', 'busi', 'intellig', 'person', 'project', 'bank', 'loan', 'predict', 'use', 'machin', 'learn', ':', 'use', 'logist', 'regress', ',', 'elig', 'bank', \"'s\", 'custom', 'loan', ',', 'past', 'data', 'custom', ',', 'model', 'predict', 'elig', 'custom', 'loan', '.', 'instagram', 'reach', 'data', 'analysi', 'use', 'python', ':', 'to', 'analyz', 'reach', 'instagram', 'account', ',', 'that', 'help', 'understand', 'instagram', '’', 'algorithm', 'work', 'analyz', 'futur', 'task', 'affect', 'get', 'outcom', '.', 'placement', 'manag', 'system', ':', 'creat', 'websit', 'placement', 'recruit', 'satisfi', 'need', 'recruit', 'student', '.', '(', 'mysql', '(', 'databas', ')', 'php', ')', 'survey', 'salesforc', ':', 'creat', 'survey', 'salesforc', 'collect', 'feedback', 'data', 'users/custom', 'use', 'salesforc', 'view', 'survey', 'data', ',', 'creat', 'report', 'gain', 'data-driven', 'insight', 'across', 'organ', '.', 'certif', 'c++', 'program', 'udemi', 'azur', 'fundament', '(', 'az-900', ')', 'microsoft', 'sql', '&', 'mysql', 'udemi', 'c++', 'spoken', 'tutori', ',', 'iit', 'bombay', '.', 'python', '3.0', 'spoken', 'tutori', 'project', ',', 'iit', 'bombay', '.', 'machin', 'learn', 'python', 'linkedin', 'learn']\n"
          ]
        }
      ]
    },
    {
      "cell_type": "code",
      "source": [
        "content = [job_description,resume]\n",
        "from sklearn.feature_extraction.text import CountVectorizer\n",
        "cv = CountVectorizer()\n",
        "matrix = cv.fit_transform(content)\n",
        "from sklearn.metrics.pairwise import cosine_similarity\n",
        "similarity_matrix = cosine_similarity(matrix)\n",
        "print(similarity_matrix)"
      ],
      "metadata": {
        "colab": {
          "base_uri": "https://localhost:8080/"
        },
        "id": "u5mHbRdIYcDS",
        "outputId": "5b56e95a-fd20-4837-9c32-91e7a8a28a55"
      },
      "execution_count": 12,
      "outputs": [
        {
          "output_type": "stream",
          "name": "stdout",
          "text": [
            "[[1.         0.52820503]\n",
            " [0.52820503 1.        ]]\n"
          ]
        }
      ]
    },
    {
      "cell_type": "code",
      "source": [
        "print(\"Resume matches by: \" + str(round(similarity_matrix[1][0]*100, 2)) + \" %\")"
      ],
      "metadata": {
        "colab": {
          "base_uri": "https://localhost:8080/"
        },
        "id": "_eAhuuKtYjxX",
        "outputId": "76a45f56-be9e-4e2f-a919-c96680670009"
      },
      "execution_count": 13,
      "outputs": [
        {
          "output_type": "stream",
          "name": "stdout",
          "text": [
            "Resume matches by: 52.82 %\n"
          ]
        }
      ]
    }
  ]
}